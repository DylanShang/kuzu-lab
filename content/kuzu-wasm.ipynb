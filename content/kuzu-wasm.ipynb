{
  "cells": [
    {
      "cell_type": "code",
      "execution_count": null,
      "metadata": {
        "trusted": true
      },
      "outputs": [],
      "source": [
        "import micropip,networkx as nx,pandas as pd,numpy as np,matplotlib.pyplot as plt,pyodide_js,js\n",
        "from IPython.display import display, HTML\n",
        "await pyodide_js.loadPackage(\"https://storage.googleapis.com/ibis-wasm-wheels/pyarrow-16.0.0.dev2661%2Bg9bddb87fd-cp311-cp311-emscripten_3_1_46_wasm32.whl\")\n",
        "await micropip.install([\"tzdata\",\"pyvis\",\"kuzu_wasm\"])\n",
        "import pyarrow as pa,kuzu_wasm\n",
        "from kuzu_wasm.utils import *"
      ]
    },
    {
      "cell_type": "code",
      "execution_count": null,
      "metadata": {
        "trusted": true
      },
      "outputs": [],
      "source": [
        "kuzu = await kuzu_wasm.init(\"https://kuzu-lab.netlify.app/package/dist/kuzu.js\")\n",
        "db = await kuzu.Database()\n",
        "conn = await kuzu.Connection(db)"
      ]
    },
    {
      "cell_type": "code",
      "execution_count": null,
      "metadata": {
        "trusted": true
      },
      "outputs": [],
      "source": [
        "# get remote csv to wasm filesystem\n",
        "kuzu.FS.writeFile(\"/follows.csv\",await (await js.fetch(\"https://raw.githubusercontent.com/kuzudb/kuzu/master/dataset/demo-db/csv/follows.csv\")).text())\n",
        "kuzu.FS.writeFile(\"/city.csv\",await (await js.fetch(\"https://raw.githubusercontent.com/kuzudb/kuzu/master/dataset/demo-db/csv/city.csv\")).text())\n",
        "kuzu.FS.writeFile(\"/lives-in.csv\",await (await js.fetch(\"https://raw.githubusercontent.com/kuzudb/kuzu/master/dataset/demo-db/csv/lives-in.csv\")).text())\n",
        "kuzu.FS.writeFile(\"/user.csv\",await (await js.fetch(\"https://raw.githubusercontent.com/kuzudb/kuzu/master/dataset/demo-db/csv/user.csv\")).text())"
      ]
    },
    {
      "cell_type": "code",
      "execution_count": null,
      "metadata": {},
      "outputs": [],
      "source": [
        "# create schema and import data\n",
        "await conn.execute(\"CREATE NODE TABLE User(name STRING, age INT64, PRIMARY KEY (name))\")\n",
        "await conn.execute(\"CREATE NODE TABLE City(name STRING, population INT64, PRIMARY KEY (name))\")\n",
        "await conn.execute(\"CREATE REL TABLE Follows(FROM User TO User, since INT64)\")\n",
        "await conn.execute(\"CREATE REL TABLE LivesIn(FROM User TO City)\")\n",
        "await conn.execute('COPY User FROM \"/user.csv\";')\n",
        "await conn.execute('COPY City FROM \"/city.csv\";')\n",
        "await conn.execute('COPY Follows FROM \"/follows.csv\";')\n",
        "await conn.execute('COPY LivesIn FROM \"/lives_in.csv\";')"
      ]
    },
    {
      "cell_type": "code",
      "execution_count": null,
      "metadata": {
        "trusted": true
      },
      "outputs": [],
      "source": [
        "res = await conn.execute(\"MATCH (a:User)-[f:Follows]->(b:User)RETURN a.name, b.name, f.since\")\n",
        "df = toDf(res)\n",
        "df"
      ]
    },
    {
      "cell_type": "code",
      "execution_count": null,
      "metadata": {},
      "outputs": [],
      "source": [
        "from IPython.display import HTML\n",
        "from pyvis.network import Network\n",
        "res_2 = await conn.execute(\"MATCH (a:User)-[f:Follows]->(b:User)RETURN a,f,b\")\n",
        "G = toNetworkx(res_2,directed = True)\n",
        "g = Network(notebook=True, cdn_resources='remote',directed = True,neighborhood_highlight = True)\n",
        "g.from_nx(G)\n",
        "for i in range(len(g.nodes)):\n",
        "    g.nodes[i][\"label\"] = g.nodes[i][\"name\"]\n",
        "html = g.generate_html(notebook=True)\n",
        "HTML(f'<div style=\"height:{g.height}\">{html}</div>', metadata={\"isolated\": True}, )"
      ]
    }
  ],
  "metadata": {
    "kernelspec": {
      "display_name": "Python (Pyodide)",
      "language": "python",
      "name": "python"
    },
    "language_info": {
      "codemirror_mode": {
        "name": "python",
        "version": 3
      },
      "file_extension": ".py",
      "mimetype": "text/x-python",
      "name": "python",
      "nbconvert_exporter": "python",
      "pygments_lexer": "ipython3",
      "version": "3.8"
    }
  },
  "nbformat": 4,
  "nbformat_minor": 4
}
