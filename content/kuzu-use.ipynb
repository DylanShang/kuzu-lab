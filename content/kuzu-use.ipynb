{
  "metadata": {
    "kernelspec": {
      "name": "python",
      "display_name": "Python (Pyodide)",
      "language": "python"
    },
    "language_info": {
      "codemirror_mode": {
        "name": "python",
        "version": 3
      },
      "file_extension": ".py",
      "mimetype": "text/x-python",
      "name": "python",
      "nbconvert_exporter": "python",
      "pygments_lexer": "ipython3",
      "version": "3.8"
    }
  },
  "nbformat_minor": 4,
  "nbformat": 4,
  "cells": [
    {
      "cell_type": "code",
      "source": "%pip install numpy pandas tzdata\nimport pyodide_js\nawait pyodide_js.loadPackage(\"https://storage.googleapis.com/ibis-wasm-wheels/pyarrow-16.0.0.dev2661%2Bg9bddb87fd-cp311-cp311-emscripten_3_1_46_wasm32.whl\")\nimport pyarrow as pa,pandas as pd\nimport kuzu_wasm\nfrom kuzu_wasm.utils import *",
      "metadata": {
        "trusted": true
      },
      "outputs": [],
      "execution_count": 9
    },
    {
      "cell_type": "code",
      "source": "kuzu = await kuzu_wasm.init()\ndb = await kuzu.Database()\nconn = await kuzu.Connection(db)",
      "metadata": {
        "trusted": true
      },
      "outputs": [],
      "execution_count": 2
    },
    {
      "cell_type": "code",
      "source": "conn.execute(\"CREATE NODE TABLE User(name STRING, age INT64, PRIMARY KEY (name))\")\nconn.execute(\"CREATE NODE TABLE City(name STRING, population INT64, PRIMARY KEY (name))\")\nconn.execute(\"CREATE REL TABLE Follows(FROM User TO User, since INT64)\")\nconn.execute(\"CREATE REL TABLE LivesIn(FROM User TO City)\")\nconn.execute(f'COPY User FROM \"{kuzu.upload(\"user.csv\")}\";')\nconn.execute(f'COPY City FROM \"{kuzu.upload(\"city.csv\")}\";')\nconn.execute(f'COPY Follows FROM \"{kuzu.upload(\"follows.csv\")}\";')\nconn.execute(f'COPY LivesIn FROM \"{kuzu.upload(\"lives_in.csv\")}\";')",
      "metadata": {
        "trusted": true
      },
      "outputs": [
        {
          "execution_count": 3,
          "output_type": "execute_result",
          "data": {
            "text/plain": "<PyodideFuture pending cb=[WebLoop._decrement_in_progress()]>"
          },
          "metadata": {}
        }
      ],
      "execution_count": 3
    },
    {
      "cell_type": "code",
      "source": "res = await conn.execute(\"MATCH (a:User)-[f:Follows]->(b:User)RETURN a.name, b.name, f.since\")\ndf = toDf(res)\ndf",
      "metadata": {
        "trusted": true
      },
      "outputs": [
        {
          "execution_count": 13,
          "output_type": "execute_result",
          "data": {
            "text/plain": "    a.name   b.name  f.since\n0     Adam  Karissa     2020\n1     Adam    Zhang     2020\n2  Karissa    Zhang     2021\n3    Zhang    Noura     2022",
            "text/html": "<div>\n<style scoped>\n    .dataframe tbody tr th:only-of-type {\n        vertical-align: middle;\n    }\n\n    .dataframe tbody tr th {\n        vertical-align: top;\n    }\n\n    .dataframe thead th {\n        text-align: right;\n    }\n</style>\n<table border=\"1\" class=\"dataframe\">\n  <thead>\n    <tr style=\"text-align: right;\">\n      <th></th>\n      <th>a.name</th>\n      <th>b.name</th>\n      <th>f.since</th>\n    </tr>\n  </thead>\n  <tbody>\n    <tr>\n      <th>0</th>\n      <td>Adam</td>\n      <td>Karissa</td>\n      <td>2020</td>\n    </tr>\n    <tr>\n      <th>1</th>\n      <td>Adam</td>\n      <td>Zhang</td>\n      <td>2020</td>\n    </tr>\n    <tr>\n      <th>2</th>\n      <td>Karissa</td>\n      <td>Zhang</td>\n      <td>2021</td>\n    </tr>\n    <tr>\n      <th>3</th>\n      <td>Zhang</td>\n      <td>Noura</td>\n      <td>2022</td>\n    </tr>\n  </tbody>\n</table>\n</div>"
          },
          "metadata": {}
        }
      ],
      "execution_count": 13
    }
  ]
}