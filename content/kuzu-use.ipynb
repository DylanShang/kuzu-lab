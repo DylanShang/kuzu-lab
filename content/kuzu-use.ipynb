{
  "cells": [
    {
      "cell_type": "code",
      "execution_count": null,
      "metadata": {
        "trusted": true
      },
      "outputs": [],
      "source": [
        "%pip install numpy pandas tzdata\n",
        "import pyodide_js\n",
        "await pyodide_js.loadPackage(\"https://storage.googleapis.com/ibis-wasm-wheels/pyarrow-16.0.0.dev2661%2Bg9bddb87fd-cp311-cp311-emscripten_3_1_46_wasm32.whl\")\n",
        "import pyarrow as pa,pandas as pd\n",
        "import kuzu_wasm\n",
        "from kuzu_wasm.utils import *"
      ]
    },
    {
      "cell_type": "code",
      "execution_count": null,
      "metadata": {
        "trusted": true
      },
      "outputs": [],
      "source": [
        "kuzu = await kuzu_wasm.init()\n",
        "db = await kuzu.Database()\n",
        "conn = await kuzu.Connection(db)"
      ]
    },
    {
      "cell_type": "code",
      "execution_count": null,
      "metadata": {
        "trusted": true
      },
      "outputs": [],
      "source": [
        "conn.execute(\"CREATE NODE TABLE User(name STRING, age INT64, PRIMARY KEY (name))\")\n",
        "conn.execute(\"CREATE NODE TABLE City(name STRING, population INT64, PRIMARY KEY (name))\")\n",
        "conn.execute(\"CREATE REL TABLE Follows(FROM User TO User, since INT64)\")\n",
        "conn.execute(\"CREATE REL TABLE LivesIn(FROM User TO City)\")\n",
        "conn.execute(f'COPY User FROM \"{kuzu.upload(\"user.csv\")}\";')\n",
        "conn.execute(f'COPY City FROM \"{kuzu.upload(\"city.csv\")}\";')\n",
        "conn.execute(f'COPY Follows FROM \"{kuzu.upload(\"follows.csv\")}\";')\n",
        "conn.execute(f'COPY LivesIn FROM \"{kuzu.upload(\"lives_in.csv\")}\";')"
      ]
    },
    {
      "cell_type": "code",
      "execution_count": null,
      "metadata": {
        "trusted": true
      },
      "outputs": [],
      "source": [
        "res = await conn.execute(\"MATCH (a:User)-[f:Follows]->(b:User)RETURN a.name, b.name, f.since\")\n",
        "df = toDf(res)\n",
        "df"
      ]
    }
  ],
  "metadata": {
    "kernelspec": {
      "display_name": "Python (Pyodide)",
      "language": "python",
      "name": "python"
    },
    "language_info": {
      "codemirror_mode": {
        "name": "python",
        "version": 3
      },
      "file_extension": ".py",
      "mimetype": "text/x-python",
      "name": "python",
      "nbconvert_exporter": "python",
      "pygments_lexer": "ipython3",
      "version": "3.8"
    }
  },
  "nbformat": 4,
  "nbformat_minor": 4
}
